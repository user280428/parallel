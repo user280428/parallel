{
 "cells": [
  {
   "metadata": {},
   "cell_type": "code",
   "source": "code = ['SWA','SWB','SWC']",
   "id": "dc9bcf6035f98da",
   "outputs": [],
   "execution_count": null
  },
  {
   "metadata": {},
   "cell_type": "code",
   "source": [
    "date1 = '01-01-2020'\n",
    "date2 = '01-01-2021'"
   ],
   "id": "434978eb9c919bba",
   "outputs": [],
   "execution_count": null
  },
  {
   "metadata": {},
   "cell_type": "code",
   "source": [
    "lat1 = 50.\n",
    "lat2 = 60."
   ],
   "id": "45c2cbcd54830017",
   "outputs": [],
   "execution_count": null
  },
  {
   "metadata": {},
   "cell_type": "code",
   "source": [
    "long1 = 30.\n",
    "long2 = 40."
   ],
   "id": "10bad3819d6ceddd",
   "outputs": [],
   "execution_count": null
  },
  {
   "metadata": {},
   "cell_type": "code",
   "source": [
    "match len(code):\n",
    "    case 1:\n",
    "        print(f\"WHERE CODE = '{code[0]}'\")\n",
    "    case 2:\n",
    "        print(f\"WHERE CODE = '{code[0]}' OR CODE = '{code[1]}'\")\n",
    "    case 3:\n",
    "        print(f\"WHERE CODE = '{code[0]}' OR CODE = '{code[1]}' OR CODE = '{code[2]}'\")"
   ],
   "id": "2143c93a47ee9750",
   "outputs": [],
   "execution_count": null
  },
  {
   "metadata": {},
   "cell_type": "code",
   "source": "f\"DATE >= {str(date1)} AND DATE < {str(date2)}\"",
   "id": "7d2544e49c666f34",
   "outputs": [],
   "execution_count": null
  },
  {
   "metadata": {},
   "cell_type": "code",
   "source": "f\"latitude >= {str(lat1)} AND latitude < {str(lat2)}\"",
   "id": "d257831bbb8bcadf",
   "outputs": [],
   "execution_count": null
  },
  {
   "metadata": {},
   "cell_type": "code",
   "source": "f\"longitude >= {str(long1)} AND longitude < {str(long2)}\"",
   "id": "3612006465211294",
   "outputs": [],
   "execution_count": null
  },
  {
   "metadata": {},
   "cell_type": "code",
   "source": [
    "def code_condition(code: list):\n",
    "    match len(code):\n",
    "        case 1:\n",
    "            return f\"CODE = '{code[0]}'\"\n",
    "        case 2:\n",
    "            return f\"CODE = '{code[0]}' OR CODE = '{code[1]}'\"\n",
    "        case 3:\n",
    "            return f\"CODE = '{code[0]}' OR CODE = '{code[1]}' OR CODE = '{code[2]}'\""
   ],
   "id": "3856542b6fabacf2",
   "outputs": [],
   "execution_count": null
  },
  {
   "metadata": {},
   "cell_type": "code",
   "source": [
    "def prepare_query(\n",
    "         date1: int,\n",
    "         date2: int,\n",
    "         lat1: float | int,\n",
    "         lat2: float | int,\n",
    "         lon1: float | int,\n",
    "         lon2: float | int,\n",
    "         code: list[str]\n",
    "    ) -> str:\n",
    "\n",
    "    selectquery = f\"\"\"\n",
    "SELECT \n",
    "    CODE,\n",
    "    DATE,\n",
    "    latitude,\n",
    "    longitude,\n",
    "    radius,\n",
    "    n,\n",
    "    e,\n",
    "    c,\n",
    "    f\n",
    "FROM `geomag`.`sat_sec_plain`\n",
    "WHERE \n",
    "{code_condition(code)}\n",
    "AND\n",
    "DATE >= {str(date1)} AND DATE < {str(date2)}\n",
    "AND\n",
    "latitude >= {str(lat1)} AND latitude < {str(lat2)}\n",
    "AND\n",
    "longitude >= {str(lon1)} AND longitude < {str(lon2)}\n",
    "                \"\"\"\n",
    "\n",
    "    return selectquery"
   ],
   "id": "8822fab9d07c26eb",
   "outputs": [],
   "execution_count": null
  },
  {
   "metadata": {},
   "cell_type": "code",
   "source": "import pandas as pd",
   "id": "5308f7b16b1e8e20",
   "outputs": [],
   "execution_count": null
  },
  {
   "metadata": {},
   "cell_type": "code",
   "source": [
    "start_year = 2023\n",
    "start_month = 1\n",
    "end_year = 2024\n",
    "end_month = 1"
   ],
   "id": "af22504752eb4ba3",
   "outputs": [],
   "execution_count": null
  },
  {
   "metadata": {},
   "cell_type": "code",
   "source": [
    "date1 = f\"{start_year}-{str(start_month).zfill(2)}-01\"\n",
    "date2 = f\"{end_year}-{str(end_month).zfill(2)}-01\"\n",
    "\n",
    "# Создание списка ['2023-01-01', '2023-02-01', ....\n",
    "month_list = pd.date_range(date1, date2,\n",
    "                       freq=\"D\").strftime(\"%Y-%m-%d\").tolist()"
   ],
   "id": "7c892ca8d072d2b5",
   "outputs": [],
   "execution_count": null
  },
  {
   "metadata": {},
   "cell_type": "code",
   "source": "month_list",
   "id": "86b10f3564b1715d",
   "outputs": [],
   "execution_count": null
  },
  {
   "metadata": {},
   "cell_type": "code",
   "source": "",
   "id": "a76356ca330c41d4",
   "outputs": [],
   "execution_count": null
  }
 ],
 "metadata": {
  "kernelspec": {
   "display_name": "Python 3",
   "language": "python",
   "name": "python3"
  },
  "language_info": {
   "codemirror_mode": {
    "name": "ipython",
    "version": 2
   },
   "file_extension": ".py",
   "mimetype": "text/x-python",
   "name": "python",
   "nbconvert_exporter": "python",
   "pygments_lexer": "ipython2",
   "version": "2.7.6"
  }
 },
 "nbformat": 4,
 "nbformat_minor": 5
}
