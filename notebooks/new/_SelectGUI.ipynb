{
 "cells": [
  {
   "metadata": {
    "ExecuteTime": {
     "end_time": "2025-09-26T14:24:38.711354Z",
     "start_time": "2025-09-26T14:24:38.705315Z"
    }
   },
   "cell_type": "code",
   "source": "code = ['SWA','SWB','SWC']",
   "id": "dc9bcf6035f98da",
   "outputs": [],
   "execution_count": 1
  },
  {
   "metadata": {
    "ExecuteTime": {
     "end_time": "2025-09-26T14:24:38.716911Z",
     "start_time": "2025-09-26T14:24:38.713352Z"
    }
   },
   "cell_type": "code",
   "source": [
    "date1 = '01-01-2020'\n",
    "date2 = '01-01-2021'"
   ],
   "id": "434978eb9c919bba",
   "outputs": [],
   "execution_count": 2
  },
  {
   "metadata": {
    "ExecuteTime": {
     "end_time": "2025-09-26T14:24:38.721163Z",
     "start_time": "2025-09-26T14:24:38.717911Z"
    }
   },
   "cell_type": "code",
   "source": [
    "lat1 = 50.\n",
    "lat2 = 60."
   ],
   "id": "45c2cbcd54830017",
   "outputs": [],
   "execution_count": 3
  },
  {
   "metadata": {
    "ExecuteTime": {
     "end_time": "2025-09-26T14:24:38.725424Z",
     "start_time": "2025-09-26T14:24:38.722163Z"
    }
   },
   "cell_type": "code",
   "source": [
    "long1 = 30.\n",
    "long2 = 40."
   ],
   "id": "10bad3819d6ceddd",
   "outputs": [],
   "execution_count": 4
  },
  {
   "metadata": {
    "ExecuteTime": {
     "end_time": "2025-09-26T14:27:45.141216Z",
     "start_time": "2025-09-26T14:27:45.135994Z"
    }
   },
   "cell_type": "code",
   "source": [
    "match len(code):\n",
    "    case 1:\n",
    "        print(f\"WHERE CODE = '{code[0]}'\")\n",
    "    case 2:\n",
    "        print(f\"WHERE CODE = '{code[0]}' OR CODE = '{code[1]}'\")\n",
    "    case 3:\n",
    "        print(f\"WHERE CODE = '{code[0]}' OR CODE = '{code[1]}' OR CODE = '{code[2]}'\")"
   ],
   "id": "2143c93a47ee9750",
   "outputs": [
    {
     "name": "stdout",
     "output_type": "stream",
     "text": [
      "WHERE CODE = 'SWA' OR CODE = 'SWB' OR CODE = 'SWC'\n"
     ]
    }
   ],
   "execution_count": 16
  },
  {
   "metadata": {
    "ExecuteTime": {
     "end_time": "2025-09-26T14:27:45.390965Z",
     "start_time": "2025-09-26T14:27:45.385754Z"
    }
   },
   "cell_type": "code",
   "source": "f\"DATE >= {str(date1)} AND DATE < {str(date2)}\"",
   "id": "7d2544e49c666f34",
   "outputs": [
    {
     "data": {
      "text/plain": [
       "'DATE >= 01-01-2020 AND DATE < 01-01-2021'"
      ]
     },
     "execution_count": 17,
     "metadata": {},
     "output_type": "execute_result"
    }
   ],
   "execution_count": 17
  },
  {
   "metadata": {
    "ExecuteTime": {
     "end_time": "2025-09-26T14:27:45.648372Z",
     "start_time": "2025-09-26T14:27:45.642324Z"
    }
   },
   "cell_type": "code",
   "source": "f\"latitude >= {str(lat1)} AND latitude < {str(lat2)}\"",
   "id": "d257831bbb8bcadf",
   "outputs": [
    {
     "data": {
      "text/plain": [
       "'latitude >= 50.0 AND latitude < 60.0'"
      ]
     },
     "execution_count": 18,
     "metadata": {},
     "output_type": "execute_result"
    }
   ],
   "execution_count": 18
  },
  {
   "metadata": {
    "ExecuteTime": {
     "end_time": "2025-09-26T14:27:45.899657Z",
     "start_time": "2025-09-26T14:27:45.894821Z"
    }
   },
   "cell_type": "code",
   "source": "f\"longitude >= {str(long1)} AND longitude < {str(long2)}\"",
   "id": "3612006465211294",
   "outputs": [
    {
     "data": {
      "text/plain": [
       "'longitude >= 30.0 AND longitude < 40.0'"
      ]
     },
     "execution_count": 19,
     "metadata": {},
     "output_type": "execute_result"
    }
   ],
   "execution_count": 19
  },
  {
   "metadata": {
    "ExecuteTime": {
     "end_time": "2025-09-26T14:27:46.209151Z",
     "start_time": "2025-09-26T14:27:46.202852Z"
    }
   },
   "cell_type": "code",
   "source": [
    "def code_condition(code: list):\n",
    "    match len(code):\n",
    "        case 1:\n",
    "            return f\"CODE = '{code[0]}'\"\n",
    "        case 2:\n",
    "            return f\"CODE = '{code[0]}' OR CODE = '{code[1]}'\"\n",
    "        case 3:\n",
    "            return f\"CODE = '{code[0]}' OR CODE = '{code[1]}' OR CODE = '{code[2]}'\""
   ],
   "id": "3856542b6fabacf2",
   "outputs": [],
   "execution_count": 20
  },
  {
   "metadata": {
    "ExecuteTime": {
     "end_time": "2025-09-26T14:26:43.004293Z",
     "start_time": "2025-09-26T14:26:42.999295Z"
    }
   },
   "cell_type": "code",
   "source": [
    "def prepare_query(\n",
    "         date1: int,\n",
    "         date2: int,\n",
    "         lat1: float | int,\n",
    "         lat2: float | int,\n",
    "         lon1: float | int,\n",
    "         lon2: float | int,\n",
    "         code: list[str]\n",
    "    ) -> str:\n",
    "\n",
    "    selectquery = f\"\"\"\n",
    "SELECT \n",
    "    CODE,\n",
    "    DATE,\n",
    "    latitude,\n",
    "    longitude,\n",
    "    radius,\n",
    "    n,\n",
    "    e,\n",
    "    c,\n",
    "    f\n",
    "FROM `geomag`.`sat_sec_plain`\n",
    "WHERE \n",
    "{code_condition(code)}\n",
    "AND\n",
    "DATE >= {str(date1)} AND DATE < {str(date2)}\n",
    "AND\n",
    "latitude >= {str(lat1)} AND latitude < {str(lat2)}\n",
    "AND\n",
    "longitude >= {str(lon1)} AND longitude < {str(lon2)}\n",
    "                \"\"\"\n",
    "\n",
    "    return selectquery"
   ],
   "id": "8822fab9d07c26eb",
   "outputs": [],
   "execution_count": 11
  },
  {
   "metadata": {
    "ExecuteTime": {
     "end_time": "2025-09-26T14:26:43.433340Z",
     "start_time": "2025-09-26T14:26:43.428369Z"
    }
   },
   "cell_type": "code",
   "source": "print(prepareQuery(date1, date2, lat1, lat2, long1, long2, code))",
   "id": "f79651ffbb580245",
   "outputs": [
    {
     "name": "stdout",
     "output_type": "stream",
     "text": [
      "\n",
      "SELECT \n",
      "    CODE,\n",
      "    DATE,\n",
      "    latitude,\n",
      "    longitude,\n",
      "    radius,\n",
      "    n,\n",
      "    e,\n",
      "    c,\n",
      "    f\n",
      "FROM `geomag`.`sat_sec_plain`\n",
      "WHERE \n",
      "CODE = 'SWA' OR CODE = 'SWB' OR CODE = 'SWC'\n",
      "AND\n",
      "DATE >= 01-01-2020 AND DATE < 01-01-2021\n",
      "AND\n",
      "latitude >= 50.0 AND latitude < 60.0\n",
      "AND\n",
      "longitude >= 30.0 AND longitude < 40.0\n",
      "                \n"
     ]
    }
   ],
   "execution_count": 12
  },
  {
   "metadata": {},
   "cell_type": "code",
   "source": "",
   "id": "5308f7b16b1e8e20",
   "outputs": [],
   "execution_count": null
  }
 ],
 "metadata": {
  "kernelspec": {
   "display_name": "Python 3",
   "language": "python",
   "name": "python3"
  },
  "language_info": {
   "codemirror_mode": {
    "name": "ipython",
    "version": 2
   },
   "file_extension": ".py",
   "mimetype": "text/x-python",
   "name": "python",
   "nbconvert_exporter": "python",
   "pygments_lexer": "ipython2",
   "version": "2.7.6"
  }
 },
 "nbformat": 4,
 "nbformat_minor": 5
}
