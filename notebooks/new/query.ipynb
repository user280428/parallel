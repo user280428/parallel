{
 "cells": [
  {
   "cell_type": "code",
   "id": "initial_id",
   "metadata": {
    "collapsed": true,
    "ExecuteTime": {
     "end_time": "2025-10-02T13:52:34.511323Z",
     "start_time": "2025-10-02T13:52:31.840005Z"
    }
   },
   "source": [
    "import pandas as pd\n",
    "\n",
    "start_year = 2023\n",
    "start_month = 1\n",
    "end_year = 2024\n",
    "end_month = 1\n",
    "date1 = f\"{start_year}-{str(start_month).zfill(2)}-01\"\n",
    "date2 = f\"{end_year}-{str(end_month).zfill(2)}-01\"\n",
    "\n",
    "# Создание списка ['2023-01-01', '2023-02-01', ....\n",
    "month_list = pd.date_range(date1, date2,\n",
    "                           freq=\"D\").strftime(\"%Y-%m-%d\").tolist()"
   ],
   "outputs": [],
   "execution_count": 3
  },
  {
   "metadata": {
    "ExecuteTime": {
     "end_time": "2025-10-02T13:52:34.527037Z",
     "start_time": "2025-10-02T13:52:34.513313Z"
    }
   },
   "cell_type": "code",
   "source": [
    "def code_condition(codes: list):\n",
    "    match len(codes):\n",
    "        case 1:\n",
    "            return f\"CODE = '{codes[0]}'\"\n",
    "        case 2:\n",
    "            return f\"CODE = '{codes[0]}' OR CODE = '{codes[1]}'\"\n",
    "        case 3:\n",
    "            return f\"CODE = '{codes[0]}' OR CODE = '{codes[1]}' OR CODE = '{codes[2]}'\"\n",
    "        case 4:\n",
    "            return f\"CODE = '{codes[0]}' OR CODE = '{codes[1]}' OR CODE = '{codes[2]}' OR CODE = '{codes[3]}'\"\n",
    "        case 5:\n",
    "            return f\"CODE = '{codes[0]}' OR CODE = '{codes[1]}' OR CODE = '{codes[2]}' OR CODE = '{codes[3]}' OR CODE = '{codes[4]}'\""
   ],
   "id": "deea78de8fda16cb",
   "outputs": [],
   "execution_count": 4
  },
  {
   "metadata": {
    "ExecuteTime": {
     "end_time": "2025-10-02T13:52:34.538163Z",
     "start_time": "2025-10-02T13:52:34.528512Z"
    }
   },
   "cell_type": "code",
   "source": [
    "def prepare_query(\n",
    "        date1: float | int,\n",
    "        date2: float | int,\n",
    "        lat1: float | int,\n",
    "        lat2: float | int,\n",
    "        lon1: float | int,\n",
    "        lon2: float | int,\n",
    "        codes: list[str]\n",
    ") -> str:\n",
    "    selectquery = f\"\"\"\n",
    "select \n",
    "\t`code`,\n",
    "\t`date`,\n",
    "\t`latitude`,\n",
    "\t`longitude`,\n",
    "\t`radius`,\n",
    "\t`v1`,\n",
    "\t`v2`,\n",
    "\t`v3`,\n",
    "\t`n`,\n",
    "\t`e`,\n",
    "\t`c`,\n",
    "\t`f`,\n",
    "\t`dst`,\n",
    "    `kp`\n",
    "\n",
    "from (select * from `geomag`.`sat_sec_plain`\n",
    "\tleft join `geomag`.`index_view` on \n",
    "\t`geomag`.`sat_sec_plain`.`date` = `geomag`.`index_view`.`index_date`) `iv`\n",
    "\t\n",
    "\twhere `iv`.`date` > {date1} and `iv`.`date` <= {date2}\n",
    "\tand\n",
    "\t`iv`.`latitude` >= {lat1} and `iv`.`latitude` <= {lat2}\n",
    "\tand\n",
    "\t`iv`.`longitude` >= {lon1} and `iv`.`longitude` <= {lon2}\n",
    "\tand\n",
    "    {code_condition(codes)}\n",
    "                \n",
    "                \"\"\"\n",
    "\n",
    "    return selectquery"
   ],
   "id": "724b8f898c17eb42",
   "outputs": [],
   "execution_count": 5
  },
  {
   "metadata": {
    "ExecuteTime": {
     "end_time": "2025-10-02T14:01:57.020910Z",
     "start_time": "2025-10-02T14:01:57.015789Z"
    }
   },
   "cell_type": "code",
   "source": [
    "from datetime import datetime\n",
    "\n",
    "\n",
    "def download_data_from_sql(date1, date2, dbConnect, codes, lat1=-90, lat2=+90, long1=-180, long2=+180):\n",
    "    d1 = datetime.strptime(date1, \"%Y-%m-%d\").timestamp()\n",
    "    d2 = datetime.strptime(date2, \"%Y-%m-%d\").timestamp()\n",
    "\n",
    "    # selectquery = prepare_query(d1, d2, lat1, lat2, long1, long2, code)\n",
    "    frame = pd.read_sql(\n",
    "        f\"\"\"\n",
    "        select \n",
    "\t`code`,\n",
    "\t`date`,\n",
    "\t`latitude`,\n",
    "\t`longitude`,\n",
    "\t`radius`,\n",
    "\t`v1`,\n",
    "\t`v2`,\n",
    "\t`v3`,\n",
    "\t`n`,\n",
    "\t`e`,\n",
    "\t`c`,\n",
    "\t`f`\n",
    "    from `geomag`.`sat_sec_plain`\n",
    "    where `date` between {d1} and {d2}\n",
    "\t\"\"\", dbConnect)\n",
    "    frame.to_csv(\"test.csv\", index=False)\n",
    "    return frame"
   ],
   "id": "64ec965d130c436",
   "outputs": [],
   "execution_count": 37
  },
  {
   "metadata": {
    "ExecuteTime": {
     "end_time": "2025-10-02T14:18:20.983154Z",
     "start_time": "2025-10-02T14:01:58.379086Z"
    }
   },
   "cell_type": "code",
   "source": [
    "from sqlalchemy import create_engine\n",
    "ip = '127.0.0.1:3306'\n",
    "password = 'root'\n",
    "login = 'root'\n",
    "\n",
    "\n",
    "sqlEngine = create_engine(f\"mysql+pymysql://{login}:{password}@{ip}\", pool_recycle=3600)\n",
    "print(\"Подключение создано\")\n",
    "\n",
    "# Подключаемся к БД\n",
    "dbConnection = sqlEngine.connect()\n",
    "print(\"Подключение установлено\")\n",
    "\n",
    "\n",
    "satellites = [\"SWA\", \"SWB\"]\n",
    "\n",
    "# Загружаем данные в DataFrame\n",
    "print(\"Перед результатом\")\n",
    "result = download_data_from_sql(month_list[0], month_list[1], dbConnection, satellites)\n",
    "dbConnection.close()\n",
    "print(\"После результата\")"
   ],
   "id": "9ee1dadff29a8207",
   "outputs": [
    {
     "name": "stdout",
     "output_type": "stream",
     "text": [
      "Подключение создано\n",
      "Подключение установлено\n",
      "Перед результатом\n"
     ]
    },
    {
     "ename": "KeyboardInterrupt",
     "evalue": "",
     "output_type": "error",
     "traceback": [
      "\u001B[31m---------------------------------------------------------------------------\u001B[39m",
      "\u001B[31mKeyboardInterrupt\u001B[39m                         Traceback (most recent call last)",
      "\u001B[36mCell\u001B[39m\u001B[36m \u001B[39m\u001B[32mIn[38]\u001B[39m\u001B[32m, line 19\u001B[39m\n\u001B[32m     17\u001B[39m \u001B[38;5;66;03m# Загружаем данные в DataFrame\u001B[39;00m\n\u001B[32m     18\u001B[39m \u001B[38;5;28mprint\u001B[39m(\u001B[33m\"\u001B[39m\u001B[33mПеред результатом\u001B[39m\u001B[33m\"\u001B[39m)\n\u001B[32m---> \u001B[39m\u001B[32m19\u001B[39m result = \u001B[43mdownload_data_from_sql\u001B[49m\u001B[43m(\u001B[49m\u001B[43mmonth_list\u001B[49m\u001B[43m[\u001B[49m\u001B[32;43m0\u001B[39;49m\u001B[43m]\u001B[49m\u001B[43m,\u001B[49m\u001B[43m \u001B[49m\u001B[43mmonth_list\u001B[49m\u001B[43m[\u001B[49m\u001B[32;43m1\u001B[39;49m\u001B[43m]\u001B[49m\u001B[43m,\u001B[49m\u001B[43m \u001B[49m\u001B[43mdbConnection\u001B[49m\u001B[43m,\u001B[49m\u001B[43m \u001B[49m\u001B[43msatellites\u001B[49m\u001B[43m)\u001B[49m\n\u001B[32m     20\u001B[39m dbConnection.close()\n\u001B[32m     21\u001B[39m \u001B[38;5;28mprint\u001B[39m(\u001B[33m\"\u001B[39m\u001B[33mПосле результата\u001B[39m\u001B[33m\"\u001B[39m)\n",
      "\u001B[36mCell\u001B[39m\u001B[36m \u001B[39m\u001B[32mIn[37]\u001B[39m\u001B[32m, line 9\u001B[39m, in \u001B[36mdownload_data_from_sql\u001B[39m\u001B[34m(date1, date2, dbConnect, codes, lat1, lat2, long1, long2)\u001B[39m\n\u001B[32m      6\u001B[39m     d2 = datetime.strptime(date2, \u001B[33m\"\u001B[39m\u001B[33m%\u001B[39m\u001B[33mY-\u001B[39m\u001B[33m%\u001B[39m\u001B[33mm-\u001B[39m\u001B[38;5;132;01m%d\u001B[39;00m\u001B[33m\"\u001B[39m).timestamp()\n\u001B[32m      8\u001B[39m     \u001B[38;5;66;03m# selectquery = prepare_query(d1, d2, lat1, lat2, long1, long2, code)\u001B[39;00m\n\u001B[32m----> \u001B[39m\u001B[32m9\u001B[39m     frame = \u001B[43mpd\u001B[49m\u001B[43m.\u001B[49m\u001B[43mread_sql\u001B[49m\u001B[43m(\u001B[49m\n\u001B[32m     10\u001B[39m \u001B[43m        \u001B[49m\u001B[33;43mf\u001B[39;49m\u001B[33;43m\"\"\"\u001B[39;49m\n\u001B[32m     11\u001B[39m \u001B[33;43m        select \u001B[39;49m\n\u001B[32m     12\u001B[39m \u001B[33;43m\t`code`,\u001B[39;49m\n\u001B[32m     13\u001B[39m \u001B[33;43m\t`date`,\u001B[39;49m\n\u001B[32m     14\u001B[39m \u001B[33;43m\t`latitude`,\u001B[39;49m\n\u001B[32m     15\u001B[39m \u001B[33;43m\t`longitude`,\u001B[39;49m\n\u001B[32m     16\u001B[39m \u001B[33;43m\t`radius`,\u001B[39;49m\n\u001B[32m     17\u001B[39m \u001B[33;43m\t`v1`,\u001B[39;49m\n\u001B[32m     18\u001B[39m \u001B[33;43m\t`v2`,\u001B[39;49m\n\u001B[32m     19\u001B[39m \u001B[33;43m\t`v3`,\u001B[39;49m\n\u001B[32m     20\u001B[39m \u001B[33;43m\t`n`,\u001B[39;49m\n\u001B[32m     21\u001B[39m \u001B[33;43m\t`e`,\u001B[39;49m\n\u001B[32m     22\u001B[39m \u001B[33;43m\t`c`,\u001B[39;49m\n\u001B[32m     23\u001B[39m \u001B[33;43m\t`f`\u001B[39;49m\n\u001B[32m     24\u001B[39m \u001B[33;43m    from `geomag`.`sat_sec_plain`\u001B[39;49m\n\u001B[32m     25\u001B[39m \u001B[33;43m    where `date` between \u001B[39;49m\u001B[38;5;132;43;01m{\u001B[39;49;00m\u001B[43md1\u001B[49m\u001B[38;5;132;43;01m}\u001B[39;49;00m\u001B[33;43m and \u001B[39;49m\u001B[38;5;132;43;01m{\u001B[39;49;00m\u001B[43md2\u001B[49m\u001B[38;5;132;43;01m}\u001B[39;49;00m\n\u001B[32m     26\u001B[39m \u001B[33;43m\t\u001B[39;49m\u001B[33;43m\"\"\"\u001B[39;49m\u001B[43m,\u001B[49m\u001B[43m \u001B[49m\u001B[43mdbConnect\u001B[49m\u001B[43m)\u001B[49m\n\u001B[32m     27\u001B[39m     frame.to_csv(\u001B[33m\"\u001B[39m\u001B[33mtest.csv\u001B[39m\u001B[33m\"\u001B[39m, index=\u001B[38;5;28;01mFalse\u001B[39;00m)\n\u001B[32m     28\u001B[39m     \u001B[38;5;28;01mreturn\u001B[39;00m frame\n",
      "\u001B[36mFile \u001B[39m\u001B[32mD:\\misha\\_projs\\_parallel\\venv\\Lib\\site-packages\\pandas\\io\\sql.py:736\u001B[39m, in \u001B[36mread_sql\u001B[39m\u001B[34m(sql, con, index_col, coerce_float, params, parse_dates, columns, chunksize, dtype_backend, dtype)\u001B[39m\n\u001B[32m    726\u001B[39m     \u001B[38;5;28;01mreturn\u001B[39;00m pandas_sql.read_table(\n\u001B[32m    727\u001B[39m         sql,\n\u001B[32m    728\u001B[39m         index_col=index_col,\n\u001B[32m   (...)\u001B[39m\u001B[32m    733\u001B[39m         dtype_backend=dtype_backend,\n\u001B[32m    734\u001B[39m     )\n\u001B[32m    735\u001B[39m \u001B[38;5;28;01melse\u001B[39;00m:\n\u001B[32m--> \u001B[39m\u001B[32m736\u001B[39m     \u001B[38;5;28;01mreturn\u001B[39;00m \u001B[43mpandas_sql\u001B[49m\u001B[43m.\u001B[49m\u001B[43mread_query\u001B[49m\u001B[43m(\u001B[49m\n\u001B[32m    737\u001B[39m \u001B[43m        \u001B[49m\u001B[43msql\u001B[49m\u001B[43m,\u001B[49m\n\u001B[32m    738\u001B[39m \u001B[43m        \u001B[49m\u001B[43mindex_col\u001B[49m\u001B[43m=\u001B[49m\u001B[43mindex_col\u001B[49m\u001B[43m,\u001B[49m\n\u001B[32m    739\u001B[39m \u001B[43m        \u001B[49m\u001B[43mparams\u001B[49m\u001B[43m=\u001B[49m\u001B[43mparams\u001B[49m\u001B[43m,\u001B[49m\n\u001B[32m    740\u001B[39m \u001B[43m        \u001B[49m\u001B[43mcoerce_float\u001B[49m\u001B[43m=\u001B[49m\u001B[43mcoerce_float\u001B[49m\u001B[43m,\u001B[49m\n\u001B[32m    741\u001B[39m \u001B[43m        \u001B[49m\u001B[43mparse_dates\u001B[49m\u001B[43m=\u001B[49m\u001B[43mparse_dates\u001B[49m\u001B[43m,\u001B[49m\n\u001B[32m    742\u001B[39m \u001B[43m        \u001B[49m\u001B[43mchunksize\u001B[49m\u001B[43m=\u001B[49m\u001B[43mchunksize\u001B[49m\u001B[43m,\u001B[49m\n\u001B[32m    743\u001B[39m \u001B[43m        \u001B[49m\u001B[43mdtype_backend\u001B[49m\u001B[43m=\u001B[49m\u001B[43mdtype_backend\u001B[49m\u001B[43m,\u001B[49m\n\u001B[32m    744\u001B[39m \u001B[43m        \u001B[49m\u001B[43mdtype\u001B[49m\u001B[43m=\u001B[49m\u001B[43mdtype\u001B[49m\u001B[43m,\u001B[49m\n\u001B[32m    745\u001B[39m \u001B[43m    \u001B[49m\u001B[43m)\u001B[49m\n",
      "\u001B[36mFile \u001B[39m\u001B[32mD:\\misha\\_projs\\_parallel\\venv\\Lib\\site-packages\\pandas\\io\\sql.py:1848\u001B[39m, in \u001B[36mSQLDatabase.read_query\u001B[39m\u001B[34m(self, sql, index_col, coerce_float, parse_dates, params, chunksize, dtype, dtype_backend)\u001B[39m\n\u001B[32m   1791\u001B[39m \u001B[38;5;28;01mdef\u001B[39;00m\u001B[38;5;250m \u001B[39m\u001B[34mread_query\u001B[39m(\n\u001B[32m   1792\u001B[39m     \u001B[38;5;28mself\u001B[39m,\n\u001B[32m   1793\u001B[39m     sql: \u001B[38;5;28mstr\u001B[39m,\n\u001B[32m   (...)\u001B[39m\u001B[32m   1800\u001B[39m     dtype_backend: DtypeBackend | Literal[\u001B[33m\"\u001B[39m\u001B[33mnumpy\u001B[39m\u001B[33m\"\u001B[39m] = \u001B[33m\"\u001B[39m\u001B[33mnumpy\u001B[39m\u001B[33m\"\u001B[39m,\n\u001B[32m   1801\u001B[39m ) -> DataFrame | Iterator[DataFrame]:\n\u001B[32m   1802\u001B[39m \u001B[38;5;250m    \u001B[39m\u001B[33;03m\"\"\"\u001B[39;00m\n\u001B[32m   1803\u001B[39m \u001B[33;03m    Read SQL query into a DataFrame.\u001B[39;00m\n\u001B[32m   1804\u001B[39m \n\u001B[32m   (...)\u001B[39m\u001B[32m   1846\u001B[39m \n\u001B[32m   1847\u001B[39m \u001B[33;03m    \"\"\"\u001B[39;00m\n\u001B[32m-> \u001B[39m\u001B[32m1848\u001B[39m     result = \u001B[38;5;28;43mself\u001B[39;49m\u001B[43m.\u001B[49m\u001B[43mexecute\u001B[49m\u001B[43m(\u001B[49m\u001B[43msql\u001B[49m\u001B[43m,\u001B[49m\u001B[43m \u001B[49m\u001B[43mparams\u001B[49m\u001B[43m)\u001B[49m\n\u001B[32m   1849\u001B[39m     columns = result.keys()\n\u001B[32m   1851\u001B[39m     \u001B[38;5;28;01mif\u001B[39;00m chunksize \u001B[38;5;129;01mis\u001B[39;00m \u001B[38;5;129;01mnot\u001B[39;00m \u001B[38;5;28;01mNone\u001B[39;00m:\n",
      "\u001B[36mFile \u001B[39m\u001B[32mD:\\misha\\_projs\\_parallel\\venv\\Lib\\site-packages\\pandas\\io\\sql.py:1671\u001B[39m, in \u001B[36mSQLDatabase.execute\u001B[39m\u001B[34m(self, sql, params)\u001B[39m\n\u001B[32m   1669\u001B[39m args = [] \u001B[38;5;28;01mif\u001B[39;00m params \u001B[38;5;129;01mis\u001B[39;00m \u001B[38;5;28;01mNone\u001B[39;00m \u001B[38;5;28;01melse\u001B[39;00m [params]\n\u001B[32m   1670\u001B[39m \u001B[38;5;28;01mif\u001B[39;00m \u001B[38;5;28misinstance\u001B[39m(sql, \u001B[38;5;28mstr\u001B[39m):\n\u001B[32m-> \u001B[39m\u001B[32m1671\u001B[39m     \u001B[38;5;28;01mreturn\u001B[39;00m \u001B[38;5;28;43mself\u001B[39;49m\u001B[43m.\u001B[49m\u001B[43mcon\u001B[49m\u001B[43m.\u001B[49m\u001B[43mexec_driver_sql\u001B[49m\u001B[43m(\u001B[49m\u001B[43msql\u001B[49m\u001B[43m,\u001B[49m\u001B[43m \u001B[49m\u001B[43m*\u001B[49m\u001B[43margs\u001B[49m\u001B[43m)\u001B[49m\n\u001B[32m   1672\u001B[39m \u001B[38;5;28;01mreturn\u001B[39;00m \u001B[38;5;28mself\u001B[39m.con.execute(sql, *args)\n",
      "\u001B[36mFile \u001B[39m\u001B[32mD:\\misha\\_projs\\_parallel\\venv\\Lib\\site-packages\\sqlalchemy\\engine\\base.py:1779\u001B[39m, in \u001B[36mConnection.exec_driver_sql\u001B[39m\u001B[34m(self, statement, parameters, execution_options)\u001B[39m\n\u001B[32m   1774\u001B[39m execution_options = \u001B[38;5;28mself\u001B[39m._execution_options.merge_with(\n\u001B[32m   1775\u001B[39m     execution_options\n\u001B[32m   1776\u001B[39m )\n\u001B[32m   1778\u001B[39m dialect = \u001B[38;5;28mself\u001B[39m.dialect\n\u001B[32m-> \u001B[39m\u001B[32m1779\u001B[39m ret = \u001B[38;5;28;43mself\u001B[39;49m\u001B[43m.\u001B[49m\u001B[43m_execute_context\u001B[49m\u001B[43m(\u001B[49m\n\u001B[32m   1780\u001B[39m \u001B[43m    \u001B[49m\u001B[43mdialect\u001B[49m\u001B[43m,\u001B[49m\n\u001B[32m   1781\u001B[39m \u001B[43m    \u001B[49m\u001B[43mdialect\u001B[49m\u001B[43m.\u001B[49m\u001B[43mexecution_ctx_cls\u001B[49m\u001B[43m.\u001B[49m\u001B[43m_init_statement\u001B[49m\u001B[43m,\u001B[49m\n\u001B[32m   1782\u001B[39m \u001B[43m    \u001B[49m\u001B[43mstatement\u001B[49m\u001B[43m,\u001B[49m\n\u001B[32m   1783\u001B[39m \u001B[43m    \u001B[49m\u001B[38;5;28;43;01mNone\u001B[39;49;00m\u001B[43m,\u001B[49m\n\u001B[32m   1784\u001B[39m \u001B[43m    \u001B[49m\u001B[43mexecution_options\u001B[49m\u001B[43m,\u001B[49m\n\u001B[32m   1785\u001B[39m \u001B[43m    \u001B[49m\u001B[43mstatement\u001B[49m\u001B[43m,\u001B[49m\n\u001B[32m   1786\u001B[39m \u001B[43m    \u001B[49m\u001B[43mdistilled_parameters\u001B[49m\u001B[43m,\u001B[49m\n\u001B[32m   1787\u001B[39m \u001B[43m\u001B[49m\u001B[43m)\u001B[49m\n\u001B[32m   1789\u001B[39m \u001B[38;5;28;01mreturn\u001B[39;00m ret\n",
      "\u001B[36mFile \u001B[39m\u001B[32mD:\\misha\\_projs\\_parallel\\venv\\Lib\\site-packages\\sqlalchemy\\engine\\base.py:1846\u001B[39m, in \u001B[36mConnection._execute_context\u001B[39m\u001B[34m(self, dialect, constructor, statement, parameters, execution_options, *args, **kw)\u001B[39m\n\u001B[32m   1844\u001B[39m     \u001B[38;5;28;01mreturn\u001B[39;00m \u001B[38;5;28mself\u001B[39m._exec_insertmany_context(dialect, context)\n\u001B[32m   1845\u001B[39m \u001B[38;5;28;01melse\u001B[39;00m:\n\u001B[32m-> \u001B[39m\u001B[32m1846\u001B[39m     \u001B[38;5;28;01mreturn\u001B[39;00m \u001B[38;5;28;43mself\u001B[39;49m\u001B[43m.\u001B[49m\u001B[43m_exec_single_context\u001B[49m\u001B[43m(\u001B[49m\n\u001B[32m   1847\u001B[39m \u001B[43m        \u001B[49m\u001B[43mdialect\u001B[49m\u001B[43m,\u001B[49m\u001B[43m \u001B[49m\u001B[43mcontext\u001B[49m\u001B[43m,\u001B[49m\u001B[43m \u001B[49m\u001B[43mstatement\u001B[49m\u001B[43m,\u001B[49m\u001B[43m \u001B[49m\u001B[43mparameters\u001B[49m\n\u001B[32m   1848\u001B[39m \u001B[43m    \u001B[49m\u001B[43m)\u001B[49m\n",
      "\u001B[36mFile \u001B[39m\u001B[32mD:\\misha\\_projs\\_parallel\\venv\\Lib\\site-packages\\sqlalchemy\\engine\\base.py:1986\u001B[39m, in \u001B[36mConnection._exec_single_context\u001B[39m\u001B[34m(self, dialect, context, statement, parameters)\u001B[39m\n\u001B[32m   1983\u001B[39m     result = context._setup_result_proxy()\n\u001B[32m   1985\u001B[39m \u001B[38;5;28;01mexcept\u001B[39;00m \u001B[38;5;167;01mBaseException\u001B[39;00m \u001B[38;5;28;01mas\u001B[39;00m e:\n\u001B[32m-> \u001B[39m\u001B[32m1986\u001B[39m     \u001B[38;5;28;43mself\u001B[39;49m\u001B[43m.\u001B[49m\u001B[43m_handle_dbapi_exception\u001B[49m\u001B[43m(\u001B[49m\n\u001B[32m   1987\u001B[39m \u001B[43m        \u001B[49m\u001B[43me\u001B[49m\u001B[43m,\u001B[49m\u001B[43m \u001B[49m\u001B[43mstr_statement\u001B[49m\u001B[43m,\u001B[49m\u001B[43m \u001B[49m\u001B[43meffective_parameters\u001B[49m\u001B[43m,\u001B[49m\u001B[43m \u001B[49m\u001B[43mcursor\u001B[49m\u001B[43m,\u001B[49m\u001B[43m \u001B[49m\u001B[43mcontext\u001B[49m\n\u001B[32m   1988\u001B[39m \u001B[43m    \u001B[49m\u001B[43m)\u001B[49m\n\u001B[32m   1990\u001B[39m \u001B[38;5;28;01mreturn\u001B[39;00m result\n",
      "\u001B[36mFile \u001B[39m\u001B[32mD:\\misha\\_projs\\_parallel\\venv\\Lib\\site-packages\\sqlalchemy\\engine\\base.py:2358\u001B[39m, in \u001B[36mConnection._handle_dbapi_exception\u001B[39m\u001B[34m(self, e, statement, parameters, cursor, context, is_sub_exec)\u001B[39m\n\u001B[32m   2356\u001B[39m     \u001B[38;5;28;01melse\u001B[39;00m:\n\u001B[32m   2357\u001B[39m         \u001B[38;5;28;01massert\u001B[39;00m exc_info[\u001B[32m1\u001B[39m] \u001B[38;5;129;01mis\u001B[39;00m \u001B[38;5;129;01mnot\u001B[39;00m \u001B[38;5;28;01mNone\u001B[39;00m\n\u001B[32m-> \u001B[39m\u001B[32m2358\u001B[39m         \u001B[38;5;28;01mraise\u001B[39;00m exc_info[\u001B[32m1\u001B[39m].with_traceback(exc_info[\u001B[32m2\u001B[39m])\n\u001B[32m   2359\u001B[39m \u001B[38;5;28;01mfinally\u001B[39;00m:\n\u001B[32m   2360\u001B[39m     \u001B[38;5;28;01mdel\u001B[39;00m \u001B[38;5;28mself\u001B[39m._reentrant_error\n",
      "\u001B[36mFile \u001B[39m\u001B[32mD:\\misha\\_projs\\_parallel\\venv\\Lib\\site-packages\\sqlalchemy\\engine\\base.py:1967\u001B[39m, in \u001B[36mConnection._exec_single_context\u001B[39m\u001B[34m(self, dialect, context, statement, parameters)\u001B[39m\n\u001B[32m   1965\u001B[39m                 \u001B[38;5;28;01mbreak\u001B[39;00m\n\u001B[32m   1966\u001B[39m     \u001B[38;5;28;01mif\u001B[39;00m \u001B[38;5;129;01mnot\u001B[39;00m evt_handled:\n\u001B[32m-> \u001B[39m\u001B[32m1967\u001B[39m         \u001B[38;5;28;43mself\u001B[39;49m\u001B[43m.\u001B[49m\u001B[43mdialect\u001B[49m\u001B[43m.\u001B[49m\u001B[43mdo_execute\u001B[49m\u001B[43m(\u001B[49m\n\u001B[32m   1968\u001B[39m \u001B[43m            \u001B[49m\u001B[43mcursor\u001B[49m\u001B[43m,\u001B[49m\u001B[43m \u001B[49m\u001B[43mstr_statement\u001B[49m\u001B[43m,\u001B[49m\u001B[43m \u001B[49m\u001B[43meffective_parameters\u001B[49m\u001B[43m,\u001B[49m\u001B[43m \u001B[49m\u001B[43mcontext\u001B[49m\n\u001B[32m   1969\u001B[39m \u001B[43m        \u001B[49m\u001B[43m)\u001B[49m\n\u001B[32m   1971\u001B[39m \u001B[38;5;28;01mif\u001B[39;00m \u001B[38;5;28mself\u001B[39m._has_events \u001B[38;5;129;01mor\u001B[39;00m \u001B[38;5;28mself\u001B[39m.engine._has_events:\n\u001B[32m   1972\u001B[39m     \u001B[38;5;28mself\u001B[39m.dispatch.after_cursor_execute(\n\u001B[32m   1973\u001B[39m         \u001B[38;5;28mself\u001B[39m,\n\u001B[32m   1974\u001B[39m         cursor,\n\u001B[32m   (...)\u001B[39m\u001B[32m   1978\u001B[39m         context.executemany,\n\u001B[32m   1979\u001B[39m     )\n",
      "\u001B[36mFile \u001B[39m\u001B[32mD:\\misha\\_projs\\_parallel\\venv\\Lib\\site-packages\\sqlalchemy\\engine\\default.py:951\u001B[39m, in \u001B[36mDefaultDialect.do_execute\u001B[39m\u001B[34m(self, cursor, statement, parameters, context)\u001B[39m\n\u001B[32m    950\u001B[39m \u001B[38;5;28;01mdef\u001B[39;00m\u001B[38;5;250m \u001B[39m\u001B[34mdo_execute\u001B[39m(\u001B[38;5;28mself\u001B[39m, cursor, statement, parameters, context=\u001B[38;5;28;01mNone\u001B[39;00m):\n\u001B[32m--> \u001B[39m\u001B[32m951\u001B[39m     \u001B[43mcursor\u001B[49m\u001B[43m.\u001B[49m\u001B[43mexecute\u001B[49m\u001B[43m(\u001B[49m\u001B[43mstatement\u001B[49m\u001B[43m,\u001B[49m\u001B[43m \u001B[49m\u001B[43mparameters\u001B[49m\u001B[43m)\u001B[49m\n",
      "\u001B[36mFile \u001B[39m\u001B[32mD:\\misha\\_projs\\_parallel\\venv\\Lib\\site-packages\\pymysql\\cursors.py:153\u001B[39m, in \u001B[36mCursor.execute\u001B[39m\u001B[34m(self, query, args)\u001B[39m\n\u001B[32m    149\u001B[39m     \u001B[38;5;28;01mpass\u001B[39;00m\n\u001B[32m    151\u001B[39m query = \u001B[38;5;28mself\u001B[39m.mogrify(query, args)\n\u001B[32m--> \u001B[39m\u001B[32m153\u001B[39m result = \u001B[38;5;28;43mself\u001B[39;49m\u001B[43m.\u001B[49m\u001B[43m_query\u001B[49m\u001B[43m(\u001B[49m\u001B[43mquery\u001B[49m\u001B[43m)\u001B[49m\n\u001B[32m    154\u001B[39m \u001B[38;5;28mself\u001B[39m._executed = query\n\u001B[32m    155\u001B[39m \u001B[38;5;28;01mreturn\u001B[39;00m result\n",
      "\u001B[36mFile \u001B[39m\u001B[32mD:\\misha\\_projs\\_parallel\\venv\\Lib\\site-packages\\pymysql\\cursors.py:322\u001B[39m, in \u001B[36mCursor._query\u001B[39m\u001B[34m(self, q)\u001B[39m\n\u001B[32m    320\u001B[39m conn = \u001B[38;5;28mself\u001B[39m._get_db()\n\u001B[32m    321\u001B[39m \u001B[38;5;28mself\u001B[39m._clear_result()\n\u001B[32m--> \u001B[39m\u001B[32m322\u001B[39m \u001B[43mconn\u001B[49m\u001B[43m.\u001B[49m\u001B[43mquery\u001B[49m\u001B[43m(\u001B[49m\u001B[43mq\u001B[49m\u001B[43m)\u001B[49m\n\u001B[32m    323\u001B[39m \u001B[38;5;28mself\u001B[39m._do_get_result()\n\u001B[32m    324\u001B[39m \u001B[38;5;28;01mreturn\u001B[39;00m \u001B[38;5;28mself\u001B[39m.rowcount\n",
      "\u001B[36mFile \u001B[39m\u001B[32mD:\\misha\\_projs\\_parallel\\venv\\Lib\\site-packages\\pymysql\\connections.py:575\u001B[39m, in \u001B[36mConnection.query\u001B[39m\u001B[34m(self, sql, unbuffered)\u001B[39m\n\u001B[32m    573\u001B[39m     sql = sql.encode(\u001B[38;5;28mself\u001B[39m.encoding, \u001B[33m\"\u001B[39m\u001B[33msurrogateescape\u001B[39m\u001B[33m\"\u001B[39m)\n\u001B[32m    574\u001B[39m \u001B[38;5;28mself\u001B[39m._execute_command(COMMAND.COM_QUERY, sql)\n\u001B[32m--> \u001B[39m\u001B[32m575\u001B[39m \u001B[38;5;28mself\u001B[39m._affected_rows = \u001B[38;5;28;43mself\u001B[39;49m\u001B[43m.\u001B[49m\u001B[43m_read_query_result\u001B[49m\u001B[43m(\u001B[49m\u001B[43munbuffered\u001B[49m\u001B[43m=\u001B[49m\u001B[43munbuffered\u001B[49m\u001B[43m)\u001B[49m\n\u001B[32m    576\u001B[39m \u001B[38;5;28;01mreturn\u001B[39;00m \u001B[38;5;28mself\u001B[39m._affected_rows\n",
      "\u001B[36mFile \u001B[39m\u001B[32mD:\\misha\\_projs\\_parallel\\venv\\Lib\\site-packages\\pymysql\\connections.py:826\u001B[39m, in \u001B[36mConnection._read_query_result\u001B[39m\u001B[34m(self, unbuffered)\u001B[39m\n\u001B[32m    824\u001B[39m     result.init_unbuffered_query()\n\u001B[32m    825\u001B[39m \u001B[38;5;28;01melse\u001B[39;00m:\n\u001B[32m--> \u001B[39m\u001B[32m826\u001B[39m     \u001B[43mresult\u001B[49m\u001B[43m.\u001B[49m\u001B[43mread\u001B[49m\u001B[43m(\u001B[49m\u001B[43m)\u001B[49m\n\u001B[32m    827\u001B[39m \u001B[38;5;28mself\u001B[39m._result = result\n\u001B[32m    828\u001B[39m \u001B[38;5;28;01mif\u001B[39;00m result.server_status \u001B[38;5;129;01mis\u001B[39;00m \u001B[38;5;129;01mnot\u001B[39;00m \u001B[38;5;28;01mNone\u001B[39;00m:\n",
      "\u001B[36mFile \u001B[39m\u001B[32mD:\\misha\\_projs\\_parallel\\venv\\Lib\\site-packages\\pymysql\\connections.py:1210\u001B[39m, in \u001B[36mMySQLResult.read\u001B[39m\u001B[34m(self)\u001B[39m\n\u001B[32m   1208\u001B[39m         \u001B[38;5;28mself\u001B[39m._read_load_local_packet(first_packet)\n\u001B[32m   1209\u001B[39m     \u001B[38;5;28;01melse\u001B[39;00m:\n\u001B[32m-> \u001B[39m\u001B[32m1210\u001B[39m         \u001B[38;5;28;43mself\u001B[39;49m\u001B[43m.\u001B[49m\u001B[43m_read_result_packet\u001B[49m\u001B[43m(\u001B[49m\u001B[43mfirst_packet\u001B[49m\u001B[43m)\u001B[49m\n\u001B[32m   1211\u001B[39m \u001B[38;5;28;01mfinally\u001B[39;00m:\n\u001B[32m   1212\u001B[39m     \u001B[38;5;28mself\u001B[39m.connection = \u001B[38;5;28;01mNone\u001B[39;00m\n",
      "\u001B[36mFile \u001B[39m\u001B[32mD:\\misha\\_projs\\_parallel\\venv\\Lib\\site-packages\\pymysql\\connections.py:1287\u001B[39m, in \u001B[36mMySQLResult._read_result_packet\u001B[39m\u001B[34m(self, first_packet)\u001B[39m\n\u001B[32m   1285\u001B[39m \u001B[38;5;28mself\u001B[39m.field_count = first_packet.read_length_encoded_integer()\n\u001B[32m   1286\u001B[39m \u001B[38;5;28mself\u001B[39m._get_descriptions()\n\u001B[32m-> \u001B[39m\u001B[32m1287\u001B[39m \u001B[38;5;28;43mself\u001B[39;49m\u001B[43m.\u001B[49m\u001B[43m_read_rowdata_packet\u001B[49m\u001B[43m(\u001B[49m\u001B[43m)\u001B[49m\n",
      "\u001B[36mFile \u001B[39m\u001B[32mD:\\misha\\_projs\\_parallel\\venv\\Lib\\site-packages\\pymysql\\connections.py:1334\u001B[39m, in \u001B[36mMySQLResult._read_rowdata_packet\u001B[39m\u001B[34m(self)\u001B[39m\n\u001B[32m   1332\u001B[39m rows = []\n\u001B[32m   1333\u001B[39m \u001B[38;5;28;01mwhile\u001B[39;00m \u001B[38;5;28;01mTrue\u001B[39;00m:\n\u001B[32m-> \u001B[39m\u001B[32m1334\u001B[39m     packet = \u001B[38;5;28;43mself\u001B[39;49m\u001B[43m.\u001B[49m\u001B[43mconnection\u001B[49m\u001B[43m.\u001B[49m\u001B[43m_read_packet\u001B[49m\u001B[43m(\u001B[49m\u001B[43m)\u001B[49m\n\u001B[32m   1335\u001B[39m     \u001B[38;5;28;01mif\u001B[39;00m \u001B[38;5;28mself\u001B[39m._check_packet_is_eof(packet):\n\u001B[32m   1336\u001B[39m         \u001B[38;5;28mself\u001B[39m.connection = \u001B[38;5;28;01mNone\u001B[39;00m  \u001B[38;5;66;03m# release reference to kill cyclic reference.\u001B[39;00m\n",
      "\u001B[36mFile \u001B[39m\u001B[32mD:\\misha\\_projs\\_parallel\\venv\\Lib\\site-packages\\pymysql\\connections.py:770\u001B[39m, in \u001B[36mConnection._read_packet\u001B[39m\u001B[34m(self, packet_type)\u001B[39m\n\u001B[32m    764\u001B[39m     \u001B[38;5;28;01mraise\u001B[39;00m err.InternalError(\n\u001B[32m    765\u001B[39m         \u001B[33m\"\u001B[39m\u001B[33mPacket sequence number wrong - got \u001B[39m\u001B[38;5;132;01m%d\u001B[39;00m\u001B[33m expected \u001B[39m\u001B[38;5;132;01m%d\u001B[39;00m\u001B[33m\"\u001B[39m\n\u001B[32m    766\u001B[39m         % (packet_number, \u001B[38;5;28mself\u001B[39m._next_seq_id)\n\u001B[32m    767\u001B[39m     )\n\u001B[32m    768\u001B[39m \u001B[38;5;28mself\u001B[39m._next_seq_id = (\u001B[38;5;28mself\u001B[39m._next_seq_id + \u001B[32m1\u001B[39m) % \u001B[32m256\u001B[39m\n\u001B[32m--> \u001B[39m\u001B[32m770\u001B[39m recv_data = \u001B[38;5;28;43mself\u001B[39;49m\u001B[43m.\u001B[49m\u001B[43m_read_bytes\u001B[49m\u001B[43m(\u001B[49m\u001B[43mbytes_to_read\u001B[49m\u001B[43m)\u001B[49m\n\u001B[32m    771\u001B[39m \u001B[38;5;28;01mif\u001B[39;00m DEBUG:\n\u001B[32m    772\u001B[39m     dump_packet(recv_data)\n",
      "\u001B[36mFile \u001B[39m\u001B[32mD:\\misha\\_projs\\_parallel\\venv\\Lib\\site-packages\\pymysql\\connections.py:789\u001B[39m, in \u001B[36mConnection._read_bytes\u001B[39m\u001B[34m(self, num_bytes)\u001B[39m\n\u001B[32m    787\u001B[39m \u001B[38;5;28;01mwhile\u001B[39;00m \u001B[38;5;28;01mTrue\u001B[39;00m:\n\u001B[32m    788\u001B[39m     \u001B[38;5;28;01mtry\u001B[39;00m:\n\u001B[32m--> \u001B[39m\u001B[32m789\u001B[39m         data = \u001B[38;5;28;43mself\u001B[39;49m\u001B[43m.\u001B[49m\u001B[43m_rfile\u001B[49m\u001B[43m.\u001B[49m\u001B[43mread\u001B[49m\u001B[43m(\u001B[49m\u001B[43mnum_bytes\u001B[49m\u001B[43m)\u001B[49m\n\u001B[32m    790\u001B[39m         \u001B[38;5;28;01mbreak\u001B[39;00m\n\u001B[32m    791\u001B[39m     \u001B[38;5;28;01mexcept\u001B[39;00m \u001B[38;5;167;01mOSError\u001B[39;00m \u001B[38;5;28;01mas\u001B[39;00m e:\n",
      "\u001B[36mFile \u001B[39m\u001B[32mC:\\Program Files\\Python313\\Lib\\socket.py:719\u001B[39m, in \u001B[36mSocketIO.readinto\u001B[39m\u001B[34m(self, b)\u001B[39m\n\u001B[32m    717\u001B[39m     \u001B[38;5;28;01mraise\u001B[39;00m \u001B[38;5;167;01mOSError\u001B[39;00m(\u001B[33m\"\u001B[39m\u001B[33mcannot read from timed out object\u001B[39m\u001B[33m\"\u001B[39m)\n\u001B[32m    718\u001B[39m \u001B[38;5;28;01mtry\u001B[39;00m:\n\u001B[32m--> \u001B[39m\u001B[32m719\u001B[39m     \u001B[38;5;28;01mreturn\u001B[39;00m \u001B[38;5;28;43mself\u001B[39;49m\u001B[43m.\u001B[49m\u001B[43m_sock\u001B[49m\u001B[43m.\u001B[49m\u001B[43mrecv_into\u001B[49m\u001B[43m(\u001B[49m\u001B[43mb\u001B[49m\u001B[43m)\u001B[49m\n\u001B[32m    720\u001B[39m \u001B[38;5;28;01mexcept\u001B[39;00m timeout:\n\u001B[32m    721\u001B[39m     \u001B[38;5;28mself\u001B[39m._timeout_occurred = \u001B[38;5;28;01mTrue\u001B[39;00m\n",
      "\u001B[31mKeyboardInterrupt\u001B[39m: "
     ]
    }
   ],
   "execution_count": 38
  },
  {
   "metadata": {
    "ExecuteTime": {
     "end_time": "2025-10-02T13:52:38.461149Z",
     "start_time": "2025-10-02T13:52:38.453063Z"
    }
   },
   "cell_type": "code",
   "source": "month_list[1]",
   "id": "743c2f4a0452bbb3",
   "outputs": [
    {
     "data": {
      "text/plain": [
       "'2023-01-02'"
      ]
     },
     "execution_count": 8,
     "metadata": {},
     "output_type": "execute_result"
    }
   ],
   "execution_count": 8
  },
  {
   "metadata": {
    "ExecuteTime": {
     "end_time": "2025-10-02T13:56:31.317009Z",
     "start_time": "2025-10-02T13:56:31.313277Z"
    }
   },
   "cell_type": "code",
   "source": [
    "\n",
    "dbConnection.close()"
   ],
   "id": "3e6671c96e4bcf82",
   "outputs": [],
   "execution_count": 32
  },
  {
   "metadata": {},
   "cell_type": "code",
   "outputs": [],
   "execution_count": null,
   "source": "",
   "id": "32aa1547afb26361"
  }
 ],
 "metadata": {
  "kernelspec": {
   "display_name": "Python 3",
   "language": "python",
   "name": "python3"
  },
  "language_info": {
   "codemirror_mode": {
    "name": "ipython",
    "version": 2
   },
   "file_extension": ".py",
   "mimetype": "text/x-python",
   "name": "python",
   "nbconvert_exporter": "python",
   "pygments_lexer": "ipython2",
   "version": "2.7.6"
  }
 },
 "nbformat": 4,
 "nbformat_minor": 5
}
