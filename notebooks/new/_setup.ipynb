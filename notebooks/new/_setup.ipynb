{
 "cells": [
  {
   "metadata": {},
   "cell_type": "code",
   "source": [
    "def open_setup_file():\n",
    "    \n",
    "    f = open(\"setup/setup\", \"r\")\n",
    "    lines = f.readlines()\n",
    "    \n",
    "    _ip = lines[2].strip()\n",
    "    _login = lines[4].strip()\n",
    "    _password = lines[6].strip()\n",
    "\n",
    "    _start_month = int(lines[10].strip())\n",
    "    _start_year = int(lines[12].strip())\n",
    "    _end_month = int(lines[14].strip())\n",
    "    _end_year = int(lines[16].strip())\n",
    "    \n",
    "    _sun_angle = float(lines[18].strip())\n",
    "    _f_nec_diff = float(lines[20].strip())\n",
    "    _dst_diff = float(lines[22].strip())\n",
    "    _ddst_diff = float(lines[24].strip())\n",
    "    _kp_max = float(lines[26].strip())\n",
    "    \n",
    "    _l_max = int(lines[30].strip())\n",
    "    f.close()\n",
    "    \n",
    "    return  _ip,_login,_password, \\\n",
    "            _start_month,_start_year,_end_month,_end_year, \\\n",
    "            _sun_angle,_f_nec_diff,_dst_diff,_ddst_diff,_kp_max, \\\n",
    "            _l_max"
   ],
   "id": "52aae12d86116d79",
   "outputs": [],
   "execution_count": null
  },
  {
   "metadata": {},
   "cell_type": "code",
   "source": "open_setup_file()",
   "id": "44482d550c6a71ca",
   "outputs": [],
   "execution_count": null
  },
  {
   "metadata": {
    "ExecuteTime": {
     "end_time": "2025-09-25T16:31:40.793384Z",
     "start_time": "2025-09-25T16:31:40.788109Z"
    }
   },
   "cell_type": "code",
   "source": [
    "def save_setup_file(\n",
    "            _ip,_login,_password,\n",
    "            _start_month,_start_year,_end_month,_end_year,\n",
    "            _sun_angle,_f_nec_diff,_dst_diff,_ddst_diff,_kp_max,\n",
    "            _l_max\n",
    "):\n",
    "    \n",
    "    f = open('setup/setup', 'w')\n",
    "    \n",
    "    f.write(\n",
    "f\"\"\"DATABASE SETTINGS\n",
    "IP address\n",
    "{_ip}\n",
    "Login\n",
    "{_login}\n",
    "Password\n",
    "{_password}\n",
    "\n",
    "SELECTING SETTINGS\n",
    "start month\n",
    "{_start_month}\n",
    "start year\n",
    "{_start_year}\n",
    "end month\n",
    "{_end_month}\n",
    "end year\n",
    "{_end_year}\n",
    "sun position angle\n",
    "{_sun_angle}\n",
    "abs diff f and nec\n",
    "{_f_nec_diff}\n",
    "Dst max\n",
    "{_ddst_diff}\n",
    "dDst max\n",
    "{_ddst_diff}\n",
    "Kp max\n",
    "{_kp_max}\n",
    "\n",
    "CALCULATING SETTINGS\n",
    "L max\n",
    "{_l_max}\"\"\"\n",
    "    )\n",
    "    \n",
    "    f.close()"
   ],
   "id": "aeeb865d2708d624",
   "outputs": [],
   "execution_count": 7
  },
  {
   "metadata": {
    "ExecuteTime": {
     "end_time": "2025-09-25T16:31:41.874320Z",
     "start_time": "2025-09-25T16:31:41.871785Z"
    }
   },
   "cell_type": "code",
   "source": "",
   "id": "bd2f1c26682bbe2d",
   "outputs": [],
   "execution_count": 7
  },
  {
   "metadata": {
    "ExecuteTime": {
     "end_time": "2025-09-25T16:31:48.586832Z",
     "start_time": "2025-09-25T16:31:48.579467Z"
    }
   },
   "cell_type": "code",
   "source": [
    "save_setup_file(\n",
    "'127.0.0.1:3306',\n",
    " '123123',\n",
    " '123',\n",
    " 1,\n",
    " 2023,\n",
    " 12,\n",
    " 2024,\n",
    " -10.0,\n",
    " 3.0,\n",
    " 30.0,\n",
    " 5.0,\n",
    " 2.0,\n",
    " 13\n",
    ")"
   ],
   "id": "302e5ac60e1fb288",
   "outputs": [],
   "execution_count": 8
  },
  {
   "metadata": {
    "ExecuteTime": {
     "end_time": "2025-09-25T14:34:12.808761Z",
     "start_time": "2025-09-25T14:34:12.805204Z"
    }
   },
   "cell_type": "code",
   "source": [
    "\n",
    "\n",
    "fontFamily = \"Helvetica\"\n",
    "fontSize_main = 14\n",
    "fontSize_secondary = 14"
   ],
   "id": "e6816bb18126beb9",
   "outputs": [],
   "execution_count": 2
  },
  {
   "metadata": {
    "ExecuteTime": {
     "end_time": "2025-09-25T14:34:13.092020Z",
     "start_time": "2025-09-25T14:34:13.088345Z"
    }
   },
   "cell_type": "code",
   "source": "font=fontFamily + \" \" + str(fontSize_main)",
   "id": "7ff1514b5bef235f",
   "outputs": [],
   "execution_count": 3
  },
  {
   "metadata": {
    "ExecuteTime": {
     "end_time": "2025-09-25T14:34:16.357267Z",
     "start_time": "2025-09-25T14:34:16.351062Z"
    }
   },
   "cell_type": "code",
   "source": "font",
   "id": "f8f3971fb43be60b",
   "outputs": [
    {
     "data": {
      "text/plain": [
       "'Helvetica 14'"
      ]
     },
     "execution_count": 4,
     "metadata": {},
     "output_type": "execute_result"
    }
   ],
   "execution_count": 4
  },
  {
   "metadata": {
    "ExecuteTime": {
     "end_time": "2025-09-25T14:34:38.932803Z",
     "start_time": "2025-09-25T14:34:38.929973Z"
    }
   },
   "cell_type": "code",
   "source": "font=f\"{fontFamily} {fontSize_main}\"",
   "id": "cc29aa6b89bc11a3",
   "outputs": [],
   "execution_count": 5
  },
  {
   "metadata": {
    "ExecuteTime": {
     "end_time": "2025-09-25T14:34:42.196273Z",
     "start_time": "2025-09-25T14:34:42.192300Z"
    }
   },
   "cell_type": "code",
   "source": "font",
   "id": "95ea26b659ecb891",
   "outputs": [
    {
     "data": {
      "text/plain": [
       "'Helvetica 14'"
      ]
     },
     "execution_count": 6,
     "metadata": {},
     "output_type": "execute_result"
    }
   ],
   "execution_count": 6
  },
  {
   "metadata": {},
   "cell_type": "code",
   "outputs": [],
   "execution_count": null,
   "source": "",
   "id": "8de1fe23cfd0bbfe"
  }
 ],
 "metadata": {
  "kernelspec": {
   "display_name": "Python 3",
   "language": "python",
   "name": "python3"
  },
  "language_info": {
   "codemirror_mode": {
    "name": "ipython",
    "version": 2
   },
   "file_extension": ".py",
   "mimetype": "text/x-python",
   "name": "python",
   "nbconvert_exporter": "python",
   "pygments_lexer": "ipython2",
   "version": "2.7.6"
  }
 },
 "nbformat": 4,
 "nbformat_minor": 5
}
